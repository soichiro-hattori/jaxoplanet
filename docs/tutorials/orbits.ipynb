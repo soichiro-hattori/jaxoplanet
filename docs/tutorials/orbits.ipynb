{
 "cells": [
  {
   "cell_type": "markdown",
   "id": "0",
   "metadata": {},
   "source": [
    "# Getting Started"
   ]
  },
  {
   "cell_type": "markdown",
   "id": "1",
   "metadata": {},
   "source": [
    "To set up a Keplerian orbital system in `jaxoplanet` we can define initialize a `Central` object (e.g. a star) and an orbiting `Body` object (e.g. a planet)."
   ]
  },
  {
   "cell_type": "code",
   "execution_count": null,
   "id": "2",
   "metadata": {},
   "outputs": [],
   "source": [
    "from jax import config\n",
    "\n",
    "config.update(\"jax_enable_x64\", True)\n",
    "\n",
    "from jaxoplanet.orbits.keplerian import Central, Body\n",
    "from jaxoplanet.units import unit_registry as ureg\n",
    "from jaxoplanet import units\n",
    "import jax.numpy as jnp"
   ]
  },
  {
   "cell_type": "markdown",
   "id": "3",
   "metadata": {},
   "source": [
    "We can initialize the `Central` object using two of radius, mass and/or density, otherwise `jaxoplanet` will populate these parameters with the default values and units of a Solar analogue star:"
   ]
  },
  {
   "cell_type": "code",
   "execution_count": null,
   "id": "4",
   "metadata": {},
   "outputs": [],
   "source": [
    "Central()"
   ]
  },
  {
   "cell_type": "markdown",
   "id": "5",
   "metadata": {},
   "source": [
    "We can instead choose to create a `Central` object using orbital parameters, for example for the Sun-Earth system:"
   ]
  },
  {
   "cell_type": "code",
   "execution_count": null,
   "id": "6",
   "metadata": {},
   "outputs": [],
   "source": [
    "Sun = Central.from_orbital_properties(\n",
    "    period=1.0 * ureg.yr,\n",
    "    semimajor=1.0 * ureg.au,\n",
    "    radius=1.0 * ureg.R_sun,\n",
    "    body_mass=1.0 * ureg.M_earth,\n",
    ")\n",
    "Sun"
   ]
  },
  {
   "cell_type": "markdown",
   "id": "7",
   "metadata": {},
   "source": [
    "To create a Keplerian `Body` we must define either the orbital period or semi-major axis. There are also a number of optional orbital parameters we can set at this point:"
   ]
  },
  {
   "cell_type": "code",
   "execution_count": null,
   "id": "8",
   "metadata": {},
   "outputs": [],
   "source": [
    "Earth = Body(central=Sun, semimajor=1 * ureg.au)\n",
    "Earth"
   ]
  },
  {
   "cell_type": "markdown",
   "id": "9",
   "metadata": {},
   "source": [
    "Note: The `eccentricity` by default is None (=circular orbit). This is not (entirely) equivalent to setting `eccentricity`=0. If we set the `eccentricity`=0 then we will have to explicitly define the argument of periastron (`omega_peri`) too!"
   ]
  },
  {
   "cell_type": "markdown",
   "id": "10",
   "metadata": {},
   "source": [
    "Users familiar with `KeplarianOrbit`s within `exoplanet` (see [tutorial](https://docs.exoplanet.codes/en/latest/tutorials/data-and-models/)) can access the relative positions and velocities of the bodies in a similar way:"
   ]
  },
  {
   "cell_type": "code",
   "execution_count": null,
   "id": "11",
   "metadata": {},
   "outputs": [],
   "source": [
    "from matplotlib import pyplot as plt\n",
    "\n",
    "# Get the position of the planet and velocity of the star as a function of time\n",
    "t = jnp.linspace(0, 730, 5000)\n",
    "x, y, z = Earth.relative_position(t)\n",
    "vx, vy, vz = Earth.central_velocity(t)\n",
    "\n",
    "# Plot the coordinates\n",
    "fig, axes = plt.subplots(2, 1, figsize=(8, 8), sharex=True)\n",
    "ax = axes[0]\n",
    "ax.plot(t, x, label=\"x\")\n",
    "ax.plot(t, y, label=\"y\")\n",
    "ax.plot(t, z, label=\"z\")\n",
    "ax.set_ylabel(\"position of orbiting body [$R_*$]\")\n",
    "ax.legend(fontsize=10, loc=1)\n",
    "\n",
    "ax = axes[1]\n",
    "ax.plot(t, vx, label=\"$v_x$\")\n",
    "ax.plot(t, vy, label=\"$v_y$\")\n",
    "ax.plot(t, vz, label=\"$v_z$\")\n",
    "ax.set_xlim(t.min(), t.max())\n",
    "ax.set_xlabel(\"time [days]\")\n",
    "ax.set_ylabel(\"velocity of central [$R_*$/day]\")\n",
    "_ = ax.legend(fontsize=10, loc=1)"
   ]
  },
  {
   "cell_type": "code",
   "execution_count": null,
   "id": "12",
   "metadata": {},
   "outputs": [],
   "source": []
  }
 ],
 "metadata": {
  "kernelspec": {
   "display_name": "Python 3 (ipykernel)",
   "language": "python",
   "name": "python3"
  },
  "language_info": {
   "codemirror_mode": {
    "name": "ipython",
    "version": 3
   },
   "file_extension": ".py",
   "mimetype": "text/x-python",
   "name": "python",
   "nbconvert_exporter": "python",
   "pygments_lexer": "ipython3",
   "version": "3.9.18"
  }
 },
 "nbformat": 4,
 "nbformat_minor": 5
}
