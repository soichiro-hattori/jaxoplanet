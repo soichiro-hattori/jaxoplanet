{
 "cells": [
  {
   "cell_type": "markdown",
   "id": "0",
   "metadata": {},
   "source": [
    "# Jaxoplanet core from scratch\n",
    "\n",
    "Inspired by the [autodidax tutorial](https://jax.readthedocs.io/en/latest/autodidax.html) from the JAX documentation, in this tutorial we work through implementing some of the core `jaxoplanet` functionality from scratch, to demonstrate and discuss the choices made within the depths of the codebase.\n",
    "\n",
    "For now, we only cover the included solver for Kepler's equation, but we hope to include some discussion of the light curve models in a later edition because those include some interesting tradeoffs and other details."
   ]
  },
  {
   "cell_type": "markdown",
   "id": "1",
   "metadata": {},
   "source": [
    "## Solving Kepler's equation\n",
    "\n",
    "One core piece of infrastructure provided by `jaxoplanet` is a function to solve Kepler's equation\n",
    "\n",
    "$$\n",
    "M = E - e \\sin(E)\n",
    "$$\n",
    "\n",
    "for the eccentric anomaly $E$ as a function of the eccentricity $e$ and mean anomaly $M$.\n",
    "This an important operation for many exoplanet models since the eccentric anomaly describes the motion of a bound two body gravitational system.\n",
    "\n",
    "There is a lot of literature dedicated to solving this equation efficiently and robustly, and we won't get into all the details here, but there are a few points we should highlight:\n",
    "\n",
    "1. The methods that are most commonly used in astrophysics to solve this equation are all iterative, using some sort of root finding scheme. While these methods can work well, they tend to be less computationally efficient than non-iterative approaches. Even more importantly for our purposes, non-iterative methods are better suited to massively parallel compute architectures like GPUs. These non-iterative methods typically have a two step form: (i) make a good initial guess (\"starter\") for $E$, then (ii) use a high order root finding update to refine this estimate. \n",
    "\n",
    "2. In most Python codes, the Kepler solver is offloaded to a compiled library, but we will find that we can get comparable performance just using JAX, and relying on its JIT compilation to accelerate the computation.\n",
    "\n",
    "With these points in mind, we can implement the solver that is included with `jaxoplanet`.\n",
    "\n",
    "### Pure-Python (+JAX) solver\n",
    "\n",
    "The solver that we use in `jaxoplanet` is based on the method from [Markley (1995)](https://ui.adsabs.harvard.edu/abs/1995CeMDA..63..101M/abstract).\n",
    "It is possible to get better CPU performance using more sophisticated methods (see, for example, [Raposo-Pulido & Peláez 2017](https://ui.adsabs.harvard.edu/abs/2017MNRAS.467.1702R/abstract), and the follow up [Brandt et al. 2021](https://ui.adsabs.harvard.edu/abs/2021AJ....162..186B/abstract)), but these methods are somewhat harder to implement efficiently using JAX's programming model, and we expect that they would not be so easily extensible to GPU or TPU acceleration.\n",
    "Regardless, we find that JAX's JIT compilation allows us to achieve nearly state-of-the-art runtime performance, even with this simple method.\n",
    "\n",
    "First we implement a \"starter\" function which uses Markley's approximation to estimate $E$ as a function of $M$ and $e$:"
   ]
  },
  {
   "cell_type": "code",
   "execution_count": null,
   "id": "2",
   "metadata": {},
   "outputs": [],
   "source": [
    "import jax\n",
    "import jax.numpy as jnp\n",
    "\n",
    "\n",
    "# Enabling double precision for comparison with standard methods from\n",
    "# the literature, but everything here also works at lower precision\n",
    "jax.config.update(\"jax_enable_x64\", True)\n",
    "\n",
    "\n",
    "def kepler_starter(mean_anom, ecc):\n",
    "    ome = 1 - ecc\n",
    "    M2 = jnp.square(mean_anom)\n",
    "    alpha = 3 * jnp.pi / (jnp.pi - 6 / jnp.pi)\n",
    "    alpha += 1.6 / (jnp.pi - 6 / jnp.pi) * (jnp.pi - mean_anom) / (1 + ecc)\n",
    "    d = 3 * ome + alpha * ecc\n",
    "    alphad = alpha * d\n",
    "    r = (3 * alphad * (d - ome) + M2) * mean_anom\n",
    "    q = 2 * alphad * ome - M2\n",
    "    q2 = jnp.square(q)\n",
    "    w = jnp.square(jnp.cbrt(jnp.abs(r) + jnp.sqrt(q2 * q + r * r)))\n",
    "    return (2 * r * w / (jnp.square(w) + w * q + q2) + mean_anom) / d"
   ]
  },
  {
   "cell_type": "markdown",
   "id": "3",
   "metadata": {},
   "source": [
    "Then we implement a third order Householder update to refine this estimate:"
   ]
  },
  {
   "cell_type": "code",
   "execution_count": null,
   "id": "4",
   "metadata": {},
   "outputs": [],
   "source": [
    "def kepler_refiner(mean_anom, ecc, ecc_anom):\n",
    "    ome = 1 - ecc\n",
    "    sE = ecc_anom - jnp.sin(ecc_anom)\n",
    "    cE = 1 - jnp.cos(ecc_anom)\n",
    "\n",
    "    f_0 = ecc * sE + ecc_anom * ome - mean_anom\n",
    "    f_1 = ecc * cE + ome\n",
    "    f_2 = ecc * (ecc_anom - sE)\n",
    "    f_3 = 1 - f_1\n",
    "    d_3 = -f_0 / (f_1 - 0.5 * f_0 * f_2 / f_1)\n",
    "    d_4 = -f_0 / (f_1 + 0.5 * d_3 * f_2 + (d_3 * d_3) * f_3 / 6)\n",
    "    d_42 = d_4 * d_4\n",
    "    dE = -f_0 / (f_1 + 0.5 * d_4 * f_2 + d_4 * d_4 * f_3 / 6 - d_42 * d_4 * f_2 / 24)\n",
    "\n",
    "    return ecc_anom + dE"
   ]
  },
  {
   "cell_type": "markdown",
   "id": "5",
   "metadata": {},
   "source": [
    "Putting these together, we can construct a solver function which includes some extra bookkeeping to handle the range reduction of the inputs:"
   ]
  },
  {
   "cell_type": "code",
   "execution_count": null,
   "id": "6",
   "metadata": {},
   "outputs": [],
   "source": [
    "@jax.jit\n",
    "@jnp.vectorize\n",
    "def kepler_solver_impl(mean_anom, ecc):\n",
    "    mean_anom = mean_anom % (2 * jnp.pi)\n",
    "\n",
    "    # We restrict to the range [0, pi)\n",
    "    high = mean_anom > jnp.pi\n",
    "    mean_anom = jnp.where(high, 2 * jnp.pi - mean_anom, mean_anom)\n",
    "\n",
    "    # Solve\n",
    "    ecc_anom = kepler_starter(mean_anom, ecc)\n",
    "    ecc_anom = kepler_refiner(mean_anom, ecc, ecc_anom)\n",
    "\n",
    "    # Re-wrap back into the full range\n",
    "    ecc_anom = jnp.where(high, 2 * jnp.pi - ecc_anom, ecc_anom)\n",
    "\n",
    "    return ecc_anom"
   ]
  },
  {
   "cell_type": "markdown",
   "id": "7",
   "metadata": {},
   "source": [
    "And that's it! Now we have a solver for Kepler's equation that we can use from JAX.\n",
    "\n",
    "Some notes:\n",
    "\n",
    "1. We've called this function `kepler_solver_impl` rather than `kepler_solver`, for reasons that we will get into shortly.\n",
    "2. This function was decorated with the [`jax.numpy.vectorize` function](https://jax.readthedocs.io/en/latest/_autosummary/jax.numpy.vectorize.html) which, while not strictly necessary in this case, is useful because it signals that we have implemented our solver for scalar inputs and we let JAX handle the vectorization to arrays of different shapes. Unlike `numpy.vectorize`, the JAX version incurs no runtime overhead when vectorizing.\n",
    "\n",
    "To check to make sure that our implementation works, let's make sure that that our method actually solves the equation of interest.\n",
    "We start by generating a grid of known eccentric anomalies and computing the corresponding array of mean anomalies using Kepler's equation.\n",
    "Then we make sure that our solver returns the correct values."
   ]
  },
  {
   "cell_type": "code",
   "execution_count": null,
   "id": "8",
   "metadata": {},
   "outputs": [],
   "source": [
    "import matplotlib.pyplot as plt\n",
    "\n",
    "ecc = 0.5\n",
    "true_ecc_anom = jnp.linspace(0, 2 * jnp.pi, 50_000)[:-1]\n",
    "mean_anom = true_ecc_anom - ecc * jnp.sin(true_ecc_anom)\n",
    "\n",
    "calc_ecc_anom = kepler_solver_impl(mean_anom, ecc)\n",
    "\n",
    "plt.plot(true_ecc_anom, jnp.abs(calc_ecc_anom - true_ecc_anom), \"k\")\n",
    "plt.axhline(0, color=\"k\")\n",
    "plt.xlabel(\"eccentric anomaly\")\n",
    "plt.ylabel(r\"error from Kepler solver\");"
   ]
  },
  {
   "cell_type": "markdown",
   "id": "9",
   "metadata": {},
   "source": [
    "We enabled double precision above (although that is by no means a requirement for this code), and we can see here that the results are correct to within $<10^{-15}$ of absolute error, which should do just fine for any practical applications.\n",
    "This error does increase for large eccentricities, but even then it should always perform better than $\\sim 10^{-12}$, and a full analysis is beyond the scope of this tutorial.\n",
    "\n",
    "It's also worth testing the performance of this implementation.\n",
    "Since we execute these tutorials on Read the Docs, the specific results here will depend on the actual allocated hardware, but here's how you would benchmark this operation on your system:"
   ]
  },
  {
   "cell_type": "code",
   "execution_count": null,
   "id": "10",
   "metadata": {},
   "outputs": [],
   "source": [
    "# Using a large number of test values to minimize effects of Python overhead\n",
    "mean_anom_bench = jax.device_put(\n",
    "    jnp.linspace(0, 2 * jnp.pi, 500_000)[:-1]\n",
    ").block_until_ready()\n",
    "kepler_solver_impl(mean_anom_bench, ecc).block_until_ready()\n",
    "%timeit kepler_solver_impl(mean_anom_bench, ecc).block_until_ready()"
   ]
  },
  {
   "cell_type": "markdown",
   "id": "11",
   "metadata": {},
   "source": [
    "On my 2020 M1 MacBook Pro, I get a runtime of `7 ms` per loop, and in each loop we're solving Kepler's equation 500,000 times, so that means that each solve costs about `14 ns`.\n",
    "For comparison, on the same system, the Kepler solver from [RadVel](https://github.com/California-Planet-Search/radvel/blob/b279a88710b628f70c9de4045f86e2f864674dc5/src/_kepler.pyx#L24) which is implemented in C/Cython takes `35 ms` per loop.\n",
    "\n",
    "We should note that the point here is not to pick on RedVel, and let's be clear that this is by no means a complete comparison!\n",
    "Instead, we want to highlight that in some cases JIT-compiled JAX code can get similar performance to that provided by optimized low level code with Python bindings.\n",
    "\n",
    "Another benefit of this pure-JAX implementation is that it can be natively executed on hardware accelerators like a GPU or TPU.\n",
    "For comparison, on an Nvidia V100 GPU, the above benchmark takes about `0.1 ms` (nearly 2 orders of magnitude faster than my CPU).\n",
    "\n",
    "### Supporting differentiation\n",
    "\n",
    "Another key feature of JAX (besides the fact that its JIT compiler produces very fast code) is that it supports automatic differentiation.\n",
    "While it is already possible to differentiate the above code, that wouldn't produce the most efficient method, since tracing through the `kepler_solver_impl` to obtain the derivative is suboptimal when we can explicitly write the derivative given below.\n",
    "Instead, we can use the [implicit function theorem](https://en.wikipedia.org/wiki/Implicit_function_theorem) to derive the [\"Jacobian-vector product\"](https://jax.readthedocs.io/en/latest/notebooks/autodiff_cookbook.html) required by JAX's machinery.\n",
    "To do that, we differentiate Kepler's equation from above and rearrange:\n",
    "\n",
    "$$\n",
    "\\mathrm{d}M = \\mathrm{d}E (1 - e \\cos E) - \\mathrm{d}e \\sin E\n",
    "$$\n",
    "\n",
    "$$\n",
    "\\mathrm{d}E = \\frac{1}{1 - e \\cos E}\\mathrm{d}M + \\frac{\\sin E}{1 - e \\cos E} \\mathrm{d}e\n",
    "$$\n",
    "\n",
    "The key point here is that we can easily evaluate the \"coefficients\" in the above expression at a given value of $E$.\n",
    "\n",
    "Using this expression, here's how we can implement our `jax.custom_jvp` rule (see [the JAX docs](https://jax.readthedocs.io/en/latest/notebooks/Custom_derivative_rules_for_Python_code.html) for more info):"
   ]
  },
  {
   "cell_type": "code",
   "execution_count": null,
   "id": "12",
   "metadata": {},
   "outputs": [],
   "source": [
    "from jax.interpreters import ad\n",
    "\n",
    "\n",
    "@jax.custom_jvp\n",
    "def kepler_solver(mean_anom, ecc):\n",
    "    return kepler_solver_impl(mean_anom, ecc)\n",
    "\n",
    "\n",
    "@kepler_solver.defjvp\n",
    "def kepler_solver_jvp(primals, tangents):\n",
    "    mean_anom, ecc = primals\n",
    "    d_mean_anom, d_ecc = tangents\n",
    "\n",
    "    # Run the solver from above to compute `ecc_anom`\n",
    "    ecc_anom = kepler_solver(mean_anom, ecc)\n",
    "\n",
    "    # Propagate the derivatives using the implicit function theorem\n",
    "    dEdM = 1 / (1 - ecc * jnp.cos(ecc_anom))\n",
    "    dEde = jnp.sin(ecc_anom) * dEdM\n",
    "    d_ecc_anom = dEdM * make_zero(d_mean_anom) + dEde * make_zero(d_ecc)\n",
    "\n",
    "    return ecc_anom, d_ecc_anom\n",
    "\n",
    "\n",
    "def make_zero(tan):\n",
    "    # This is a helper function to handle symbolic zeros (i.e. parameters\n",
    "    # that are not being differentiated)\n",
    "    if type(tan) is ad.Zero:\n",
    "        return ad.zeros_like_aval(tan.aval)\n",
    "    else:\n",
    "        return tan"
   ]
  },
  {
   "cell_type": "markdown",
   "id": "13",
   "metadata": {},
   "source": [
    "Given this final `kepler_solver` function, we can take a look at the derivatives of the eccentric anomaly as a function of mean anomaly and eccentricity.\n",
    "By default JAX only supports differentiation of scalar functions, but combining `jax.grad` with `jax.vmap` we can get efficient computation of the elementwise derivatives of this function."
   ]
  },
  {
   "cell_type": "code",
   "execution_count": null,
   "id": "14",
   "metadata": {},
   "outputs": [],
   "source": [
    "def elementwise_grad(argnums):\n",
    "    return jax.vmap(jax.grad(kepler_solver, argnums=argnums), in_axes=(0, None))\n",
    "\n",
    "\n",
    "fig, axes = plt.subplots(3, 1, sharex=True)\n",
    "\n",
    "ax = axes[0]\n",
    "ax.plot(mean_anom, kepler_solver(mean_anom, ecc), \"k\")\n",
    "ax.set_ylabel(\"E\")\n",
    "\n",
    "ax = axes[1]\n",
    "ax.plot(mean_anom, elementwise_grad(0)(mean_anom, ecc), \"k\")\n",
    "ax.set_ylabel(\"dE / dM\")\n",
    "\n",
    "ax = axes[2]\n",
    "ax.plot(mean_anom, elementwise_grad(1)(mean_anom, ecc), \"k\")\n",
    "ax.set_xlabel(\"mean anomaly; M\")\n",
    "ax.set_ylabel(\"dE / de\")\n",
    "ax.set_xlim(0, 2 * jnp.pi);"
   ]
  },
  {
   "cell_type": "markdown",
   "id": "15",
   "metadata": {},
   "source": [
    "Finally, we can test the performance of this operation to see that the computational cost is still dominated by the solve.\n",
    "In other words, the total cost of the of computing these derivatives is only fractionally (about 1% on my laptop) higher than just solving the equation itself."
   ]
  },
  {
   "cell_type": "code",
   "execution_count": null,
   "id": "16",
   "metadata": {},
   "outputs": [],
   "source": [
    "grad_func = jax.jit(elementwise_grad((0, 1)))\n",
    "grad_func(mean_anom_bench, ecc)[1].block_until_ready()\n",
    "%timeit grad_func(mean_anom_bench, ecc)[1].block_until_ready()"
   ]
  },
  {
   "cell_type": "markdown",
   "id": "17",
   "metadata": {},
   "source": [
    "Above we simply asserted that running autodiff directly on the original `kepler_solver_impl` function, instead of the version with closed form derivatives, wouldn't produce the most efficient computation.\n",
    "Here we can test that by measuring the runtime of computing these gradients using autodiff directly on the solver code:"
   ]
  },
  {
   "cell_type": "code",
   "execution_count": null,
   "id": "18",
   "metadata": {},
   "outputs": [],
   "source": [
    "grad_func = jax.vmap(jax.grad(kepler_solver_impl, argnums=(0, 1)), in_axes=(0, None))\n",
    "grad_func(mean_anom_bench, ecc)[1].block_until_ready()\n",
    "%timeit grad_func(mean_anom_bench, ecc)[1].block_until_ready()"
   ]
  },
  {
   "cell_type": "markdown",
   "id": "19",
   "metadata": {},
   "source": [
    "On my laptop, this is about a factor of 6 slower than our closed form version above."
   ]
  },
  {
   "cell_type": "code",
   "execution_count": null,
   "id": "20",
   "metadata": {},
   "outputs": [],
   "source": []
  }
 ],
 "metadata": {
  "kernelspec": {
   "display_name": "Python 3 (ipykernel)",
   "language": "python",
   "name": "python3"
  },
  "language_info": {
   "codemirror_mode": {
    "name": "ipython",
    "version": 3
   },
   "file_extension": ".py",
   "mimetype": "text/x-python",
   "name": "python",
   "nbconvert_exporter": "python",
   "pygments_lexer": "ipython3",
   "version": "3.10.10"
  }
 },
 "nbformat": 4,
 "nbformat_minor": 5
}
